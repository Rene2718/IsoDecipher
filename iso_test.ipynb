{
 "cells": [
  {
   "cell_type": "code",
   "execution_count": 1,
   "id": "330b5d75",
   "metadata": {},
   "outputs": [],
   "source": [
    "import gffutils\n",
    "import pandas as pd"
   ]
  },
  {
   "cell_type": "code",
   "execution_count": 2,
   "id": "376a87a1",
   "metadata": {},
   "outputs": [
    {
     "name": "stderr",
     "output_type": "stream",
     "text": [
      "/Users/ycheng/.conda/envs/isodecipher/lib/python3.10/site-packages/gffutils/create.py:770: UserWarning: It appears you have a gene feature in your GTF file. You may want to use the `disable_infer_genes=True` option to speed up database creation\n",
      "  warnings.warn(\n",
      "/Users/ycheng/.conda/envs/isodecipher/lib/python3.10/site-packages/gffutils/create.py:763: UserWarning: It appears you have a transcript feature in your GTF file. You may want to use the `disable_infer_transcripts=True` option to speed up database creation\n",
      "  warnings.warn(\n"
     ]
    }
   ],
   "source": [
    "gtf=\"data/toy_annotation.gtf\"\n",
    "db = gffutils.create_db(gtf, dbfn=\":memory:\", force=True, keep_order=True, merge_strategy=\"merge\")\n"
   ]
  },
  {
   "cell_type": "code",
   "execution_count": null,
   "id": "492b9a28",
   "metadata": {},
   "outputs": [
    {
     "name": "stdout",
     "output_type": "stream",
     "text": [
      "chr1\tsource\tgene\t1000\t5000\t.\t+\t.\tgene_id \"GeneA\"; gene_name \"GeneA\";\n",
      "chr2\tsource\tgene\t2000\t6000\t.\t-\t.\tgene_id \"GeneB\"; gene_name \"GeneB\";\n"
     ]
    }
   ],
   "source": [
    "for g in db.features_of_type('transcript'):\n",
    "    print (g)"
   ]
  },
  {
   "cell_type": "code",
   "execution_count": null,
   "id": "4a329af6",
   "metadata": {},
   "outputs": [
    {
     "name": "stdout",
     "output_type": "stream",
     "text": [
      "2500\n",
      "2500 3000\n",
      "2500\n",
      "2500 3200\n"
     ]
    }
   ],
   "source": [
    "for tx in db.children('GeneA', featuretype='transcript'):\n",
    "    for cds in db.children(tx, featuretype='CDS'):\n",
    "        print(cds.end)\n",
    "    cds=list(db.children(tx, featuretype='CDS'))\n",
    "    \n",
    "    if cds:\n",
    "        if tx.strand ==\"+\":\n",
    "            cds_end = max(c.end for c in cds)    \n",
    "   \n",
    "            utr_length = tx.end -cds_end\n",
    "            print (cds_end,tx.end )\n",
    "        else:\n",
    "            cds_start = min(c.start for c in cds)\n",
    "\n",
    "            utr_length = cds_start - tx.start\n",
    "            \n"
   ]
  }
 ],
 "metadata": {
  "kernelspec": {
   "display_name": "isodecipher",
   "language": "python",
   "name": "python3"
  },
  "language_info": {
   "codemirror_mode": {
    "name": "ipython",
    "version": 3
   },
   "file_extension": ".py",
   "mimetype": "text/x-python",
   "name": "python",
   "nbconvert_exporter": "python",
   "pygments_lexer": "ipython3",
   "version": "3.10.18"
  }
 },
 "nbformat": 4,
 "nbformat_minor": 5
}
