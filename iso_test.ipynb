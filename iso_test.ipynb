{
 "cells": [
  {
   "cell_type": "code",
   "execution_count": 1,
   "id": "330b5d75",
   "metadata": {},
   "outputs": [],
   "source": [
    "import gffutils\n",
    "import pandas as pd"
   ]
  },
  {
   "cell_type": "code",
   "execution_count": 2,
   "id": "376a87a1",
   "metadata": {},
   "outputs": [
    {
     "ename": "ValueError",
     "evalue": "data/toy_annotation.gtf cannot be found and does not appear to be a URL",
     "output_type": "error",
     "traceback": [
      "\u001b[0;31m---------------------------------------------------------------------------\u001b[0m",
      "\u001b[0;31mValueError\u001b[0m                                Traceback (most recent call last)",
      "Cell \u001b[0;32mIn[2], line 2\u001b[0m\n\u001b[1;32m      1\u001b[0m gtf\u001b[38;5;241m=\u001b[39m\u001b[38;5;124m\"\u001b[39m\u001b[38;5;124mdata/toy_annotation.gtf\u001b[39m\u001b[38;5;124m\"\u001b[39m\n\u001b[0;32m----> 2\u001b[0m db \u001b[38;5;241m=\u001b[39m \u001b[43mgffutils\u001b[49m\u001b[38;5;241;43m.\u001b[39;49m\u001b[43mcreate_db\u001b[49m\u001b[43m(\u001b[49m\u001b[43mgtf\u001b[49m\u001b[43m,\u001b[49m\u001b[43m \u001b[49m\u001b[43mdbfn\u001b[49m\u001b[38;5;241;43m=\u001b[39;49m\u001b[38;5;124;43m\"\u001b[39;49m\u001b[38;5;124;43m:memory:\u001b[39;49m\u001b[38;5;124;43m\"\u001b[39;49m\u001b[43m,\u001b[49m\u001b[43m \u001b[49m\u001b[43mforce\u001b[49m\u001b[38;5;241;43m=\u001b[39;49m\u001b[38;5;28;43;01mTrue\u001b[39;49;00m\u001b[43m,\u001b[49m\u001b[43m \u001b[49m\u001b[43mkeep_order\u001b[49m\u001b[38;5;241;43m=\u001b[39;49m\u001b[38;5;28;43;01mTrue\u001b[39;49;00m\u001b[43m,\u001b[49m\u001b[43m \u001b[49m\u001b[43mmerge_strategy\u001b[49m\u001b[38;5;241;43m=\u001b[39;49m\u001b[38;5;124;43m\"\u001b[39;49m\u001b[38;5;124;43mmerge\u001b[39;49m\u001b[38;5;124;43m\"\u001b[39;49m\u001b[43m)\u001b[49m\n",
      "File \u001b[0;32m~/.conda/envs/isodecipher/lib/python3.10/site-packages/gffutils/create.py:1359\u001b[0m, in \u001b[0;36mcreate_db\u001b[0;34m(data, dbfn, id_spec, force, verbose, checklines, merge_strategy, transform, gtf_transcript_key, gtf_gene_key, gtf_subfeature, force_gff, force_dialect_check, from_string, keep_order, text_factory, force_merge_fields, pragmas, sort_attribute_values, dialect, _keep_tempfiles, infer_gene_extent, disable_infer_genes, disable_infer_transcripts, **kwargs)\u001b[0m\n\u001b[1;32m   1353\u001b[0m kwargs \u001b[38;5;241m=\u001b[39m \u001b[38;5;28mdict\u001b[39m((i, _locals[i]) \u001b[38;5;28;01mfor\u001b[39;00m i \u001b[38;5;129;01min\u001b[39;00m constants\u001b[38;5;241m.\u001b[39m_iterator_kwargs)\n\u001b[1;32m   1355\u001b[0m \u001b[38;5;66;03m# First construct an iterator so that we can identify the file format.\u001b[39;00m\n\u001b[1;32m   1356\u001b[0m \u001b[38;5;66;03m# DataIterator figures out what kind of data was provided (string of lines,\u001b[39;00m\n\u001b[1;32m   1357\u001b[0m \u001b[38;5;66;03m# filename, or iterable of Features) and checks `checklines` lines to\u001b[39;00m\n\u001b[1;32m   1358\u001b[0m \u001b[38;5;66;03m# identify the dialect.\u001b[39;00m\n\u001b[0;32m-> 1359\u001b[0m iterator \u001b[38;5;241m=\u001b[39m \u001b[43miterators\u001b[49m\u001b[38;5;241;43m.\u001b[39;49m\u001b[43mDataIterator\u001b[49m\u001b[43m(\u001b[49m\u001b[38;5;241;43m*\u001b[39;49m\u001b[38;5;241;43m*\u001b[39;49m\u001b[43mkwargs\u001b[49m\u001b[43m)\u001b[49m\n\u001b[1;32m   1361\u001b[0m kwargs\u001b[38;5;241m.\u001b[39mupdate(\u001b[38;5;241m*\u001b[39m\u001b[38;5;241m*\u001b[39m_locals)\n\u001b[1;32m   1363\u001b[0m \u001b[38;5;28;01mif\u001b[39;00m dialect \u001b[38;5;129;01mis\u001b[39;00m \u001b[38;5;28;01mNone\u001b[39;00m:\n",
      "File \u001b[0;32m~/.conda/envs/isodecipher/lib/python3.10/site-packages/gffutils/iterators.py:309\u001b[0m, in \u001b[0;36mDataIterator\u001b[0;34m(data, checklines, transform, force_dialect_check, from_string, **kwargs)\u001b[0m\n\u001b[1;32m    307\u001b[0m             \u001b[38;5;28;01mreturn\u001b[39;00m _UrlIterator(\u001b[38;5;241m*\u001b[39m\u001b[38;5;241m*\u001b[39m_kwargs)\n\u001b[1;32m    308\u001b[0m         \u001b[38;5;28;01melse\u001b[39;00m:\n\u001b[0;32m--> 309\u001b[0m             \u001b[38;5;28;01mraise\u001b[39;00m \u001b[38;5;167;01mValueError\u001b[39;00m(\n\u001b[1;32m    310\u001b[0m                 \u001b[38;5;124mf\u001b[39m\u001b[38;5;124m\"\u001b[39m\u001b[38;5;132;01m{\u001b[39;00mdata\u001b[38;5;132;01m}\u001b[39;00m\u001b[38;5;124m cannot be found and does not \u001b[39m\u001b[38;5;124m\"\u001b[39m \u001b[38;5;124m\"\u001b[39m\u001b[38;5;124mappear to be a URL\u001b[39m\u001b[38;5;124m\"\u001b[39m\n\u001b[1;32m    311\u001b[0m             )\n\u001b[1;32m    312\u001b[0m \u001b[38;5;28;01melif\u001b[39;00m \u001b[38;5;28misinstance\u001b[39m(data, FeatureDB):\n\u001b[1;32m    313\u001b[0m     _kwargs[\u001b[38;5;124m\"\u001b[39m\u001b[38;5;124mdata\u001b[39m\u001b[38;5;124m\"\u001b[39m] \u001b[38;5;241m=\u001b[39m data\u001b[38;5;241m.\u001b[39mall_features()\n",
      "\u001b[0;31mValueError\u001b[0m: data/toy_annotation.gtf cannot be found and does not appear to be a URL"
     ]
    }
   ],
   "source": [
    "gtf=\"data/toy_annotation.gtf\"\n",
    "db = gffutils.create_db(gtf, dbfn=\":memory:\", force=True, keep_order=True, merge_strategy=\"merge\")\n"
   ]
  }
 ],
 "metadata": {
  "kernelspec": {
   "display_name": "isodecipher",
   "language": "python",
   "name": "python3"
  },
  "language_info": {
   "codemirror_mode": {
    "name": "ipython",
    "version": 3
   },
   "file_extension": ".py",
   "mimetype": "text/x-python",
   "name": "python",
   "nbconvert_exporter": "python",
   "pygments_lexer": "ipython3",
   "version": "3.10.18"
  }
 },
 "nbformat": 4,
 "nbformat_minor": 5
}
